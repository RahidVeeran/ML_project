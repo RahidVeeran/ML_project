{
  "cells": [
    {
      "cell_type": "markdown",
      "metadata": {
        "id": "VOz8NYvWeWTT"
      },
      "source": [
        "## Import Libraries"
      ]
    },
    {
      "cell_type": "code",
      "execution_count": 3,
      "metadata": {
        "id": "FjaV6QCTeWTV"
      },
      "outputs": [],
      "source": [
        "import pandas as pd\n",
        "import numpy as np\n",
        "import seaborn as sns\n",
        "import matplotlib.pyplot as plt\n",
        "from sklearn.preprocessing import LabelEncoder, OneHotEncoder\n",
        "from sklearn.compose import ColumnTransformer\n",
        "from sklearn.model_selection import train_test_split\n",
        "from sklearn.linear_model import LinearRegression\n",
        "from sklearn.metrics import r2_score"
      ]
    },
    {
      "cell_type": "markdown",
      "metadata": {
        "id": "BRFPXkHleWTW"
      },
      "source": [
        "## Importing data"
      ]
    },
    {
      "cell_type": "code",
      "execution_count": 4,
      "metadata": {
        "id": "FI4cOPTseWTX",
        "outputId": "bdb98df7-2b46-4970-ba8c-0c0330277b70"
      },
      "outputs": [
        {
          "name": "stdout",
          "output_type": "stream",
          "text": [
            "      Loan_ID  Gender Married Dependents     Education Self_Employed  \\\n",
            "0    LP001003    Male     Yes          1      Graduate            No   \n",
            "1    LP001005    Male     Yes          0      Graduate           Yes   \n",
            "2    LP001006    Male     Yes          0  Not Graduate            No   \n",
            "3    LP001008    Male      No          0      Graduate            No   \n",
            "4    LP001013    Male     Yes          0  Not Graduate            No   \n",
            "..        ...     ...     ...        ...           ...           ...   \n",
            "376  LP002953    Male     Yes         3+      Graduate            No   \n",
            "377  LP002974    Male     Yes          0      Graduate            No   \n",
            "378  LP002978  Female      No          0      Graduate            No   \n",
            "379  LP002979    Male     Yes         3+      Graduate            No   \n",
            "380  LP002990  Female      No          0      Graduate           Yes   \n",
            "\n",
            "     ApplicantIncome  CoapplicantIncome  LoanAmount  Loan_Amount_Term  \\\n",
            "0               4583             1508.0       128.0             360.0   \n",
            "1               3000                0.0        66.0             360.0   \n",
            "2               2583             2358.0       120.0             360.0   \n",
            "3               6000                0.0       141.0             360.0   \n",
            "4               2333             1516.0        95.0             360.0   \n",
            "..               ...                ...         ...               ...   \n",
            "376             5703                0.0       128.0             360.0   \n",
            "377             3232             1950.0       108.0             360.0   \n",
            "378             2900                0.0        71.0             360.0   \n",
            "379             4106                0.0        40.0             180.0   \n",
            "380             4583                0.0       133.0             360.0   \n",
            "\n",
            "     Credit_History Property_Area Loan_Status  \n",
            "0               1.0         Rural           N  \n",
            "1               1.0         Urban           Y  \n",
            "2               1.0         Urban           Y  \n",
            "3               1.0         Urban           Y  \n",
            "4               1.0         Urban           Y  \n",
            "..              ...           ...         ...  \n",
            "376             1.0         Urban           Y  \n",
            "377             1.0         Rural           Y  \n",
            "378             1.0         Rural           Y  \n",
            "379             1.0         Rural           Y  \n",
            "380             0.0     Semiurban           N  \n",
            "\n",
            "[381 rows x 13 columns]\n"
          ]
        }
      ],
      "source": [
        "data=pd.read_csv(\"loan_data.csv\")\n",
        "print(data)"
      ]
    },
    {
      "cell_type": "markdown",
      "metadata": {
        "id": "Jiao_6mgeWTX"
      },
      "source": [
        "## Basic Information"
      ]
    },
    {
      "cell_type": "code",
      "execution_count": 5,
      "metadata": {
        "id": "GkoK5tEleWTY",
        "outputId": "ea77da1f-e400-42d1-e377-4373f1fc350c"
      },
      "outputs": [
        {
          "name": "stdout",
          "output_type": "stream",
          "text": [
            "<class 'pandas.core.frame.DataFrame'>\n",
            "RangeIndex: 381 entries, 0 to 380\n",
            "Data columns (total 13 columns):\n",
            " #   Column             Non-Null Count  Dtype  \n",
            "---  ------             --------------  -----  \n",
            " 0   Loan_ID            381 non-null    object \n",
            " 1   Gender             376 non-null    object \n",
            " 2   Married            381 non-null    object \n",
            " 3   Dependents         373 non-null    object \n",
            " 4   Education          381 non-null    object \n",
            " 5   Self_Employed      360 non-null    object \n",
            " 6   ApplicantIncome    381 non-null    int64  \n",
            " 7   CoapplicantIncome  381 non-null    float64\n",
            " 8   LoanAmount         381 non-null    float64\n",
            " 9   Loan_Amount_Term   370 non-null    float64\n",
            " 10  Credit_History     351 non-null    float64\n",
            " 11  Property_Area      381 non-null    object \n",
            " 12  Loan_Status        381 non-null    object \n",
            "dtypes: float64(4), int64(1), object(8)\n",
            "memory usage: 38.8+ KB\n"
          ]
        }
      ],
      "source": [
        "data.info()"
      ]
    },
    {
      "cell_type": "markdown",
      "metadata": {
        "id": "zBa0oUzAeWTY"
      },
      "source": [
        "## Data Cleaning"
      ]
    },
    {
      "cell_type": "markdown",
      "metadata": {
        "id": "Dbci5GWUeWTY"
      },
      "source": [
        "## Empty cells"
      ]
    },
    {
      "cell_type": "code",
      "execution_count": 6,
      "metadata": {
        "id": "FvM1tQE4eWTY"
      },
      "outputs": [],
      "source": [
        "del data['Loan_Amount_Term']\n",
        "del data['Credit_History']\n",
        "del data['Self_Employed']"
      ]
    },
    {
      "cell_type": "code",
      "execution_count": 7,
      "metadata": {
        "id": "IHmRhI1WeWTY",
        "outputId": "22c5f9ee-f9d9-4fea-deac-a09c55a0a4aa"
      },
      "outputs": [
        {
          "data": {
            "text/plain": [
              "Loan_ID              0\n",
              "Gender               5\n",
              "Married              0\n",
              "Dependents           8\n",
              "Education            0\n",
              "ApplicantIncome      0\n",
              "CoapplicantIncome    0\n",
              "LoanAmount           0\n",
              "Property_Area        0\n",
              "Loan_Status          0\n",
              "dtype: int64"
            ]
          },
          "execution_count": 7,
          "metadata": {},
          "output_type": "execute_result"
        }
      ],
      "source": [
        "data.isna().sum()"
      ]
    },
    {
      "cell_type": "markdown",
      "metadata": {
        "id": "SNSisNKDeWTZ"
      },
      "source": [
        "### Check Duplicates"
      ]
    },
    {
      "cell_type": "code",
      "execution_count": 8,
      "metadata": {
        "id": "WAoxbOVKeWTZ",
        "outputId": "7f2323f6-3022-473d-a10b-ff86065d54df"
      },
      "outputs": [
        {
          "name": "stdout",
          "output_type": "stream",
          "text": [
            "Number of duplicated rows:  0\n"
          ]
        }
      ],
      "source": [
        "print('Number of duplicated rows: ' , len(data[data.duplicated()]))"
      ]
    },
    {
      "cell_type": "markdown",
      "metadata": {
        "id": "3cZLNKGweWTZ"
      },
      "source": [
        "## Plotting Boxplot"
      ]
    },
    {
      "cell_type": "code",
      "execution_count": 9,
      "metadata": {
        "id": "I3cnhFRKeWTZ",
        "outputId": "c89b3044-9c45-4f54-8c43-bdf89cfad066"
      },
      "outputs": [
        {
          "data": {
            "image/png": "[encoded data removed]",
            "text/plain": [
              "<Figure size 640x480 with 1 Axes>"
            ]
          },
          "metadata": {},
          "output_type": "display_data"
        }
      ],
      "source": [
        "sns.boxplot(data=data)\n",
        "plt.xticks(rotation=90)\n",
        "plt.show()"
      ]
    },
    {
      "cell_type": "markdown",
      "metadata": {
        "id": "WNwm52WKeWTZ"
      },
      "source": [
        "## Encoding Categorial Data"
      ]
    },
    {
      "cell_type": "code",
      "execution_count": 10,
      "metadata": {
        "id": "SdmncJT_eWTa",
        "outputId": "2d51f10d-f06f-48ac-f365-dbc55cce2b0e"
      },
      "outputs": [
        {
          "name": "stdout",
          "output_type": "stream",
          "text": [
            "     Loan_ID  Gender  Married  Dependents  Education  ApplicantIncome  \\\n",
            "0          0       1        1           1          0             4583   \n",
            "1          1       1        1           0          0             3000   \n",
            "2          2       1        1           0          1             2583   \n",
            "3          3       1        0           0          0             6000   \n",
            "4          4       1        1           0          1             2333   \n",
            "..       ...     ...      ...         ...        ...              ...   \n",
            "376      376       1        1           3          0             5703   \n",
            "377      377       1        1           0          0             3232   \n",
            "378      378       0        0           0          0             2900   \n",
            "379      379       1        1           3          0             4106   \n",
            "380      380       0        0           0          0             4583   \n",
            "\n",
            "     CoapplicantIncome  LoanAmount  Property_Area  Loan_Status  \n",
            "0               1508.0       128.0              0            0  \n",
            "1                  0.0        66.0              2            1  \n",
            "2               2358.0       120.0              2            1  \n",
            "3                  0.0       141.0              2            1  \n",
            "4               1516.0        95.0              2            1  \n",
            "..                 ...         ...            ...          ...  \n",
            "376                0.0       128.0              2            1  \n",
            "377             1950.0       108.0              0            1  \n",
            "378                0.0        71.0              0            1  \n",
            "379                0.0        40.0              0            1  \n",
            "380                0.0       133.0              1            0  \n",
            "\n",
            "[381 rows x 10 columns]\n"
          ]
        }
      ],
      "source": [
        "categ_col = data.select_dtypes(include=['object']).columns\n",
        "\n",
        "# Initialize encoders\n",
        "label_encoder = LabelEncoder()\n",
        "\n",
        "# Encode each categorical column using Label Encoding for simplicity\n",
        "encoded_data = data.copy()\n",
        "for i in categ_col:\n",
        "    encoded_data[i] = label_encoder.fit_transform(data[i])\n",
        "\n",
        "# Display the first 5 rows of the encoded dataset\n",
        "print(encoded_data)"
      ]
    },
    {
      "cell_type": "markdown",
      "metadata": {
        "id": "gDRdN8lyeWTa"
      },
      "source": [
        "## Extract Dependent and Independent Variables"
      ]
    },
    {
      "cell_type": "code",
      "execution_count": 11,
      "metadata": {
        "id": "sEVS0um9eWTa"
      },
      "outputs": [],
      "source": [
        "X = encoded_data.iloc[:,3:12]   #Independent variable\n",
        "y = encoded_data['Loan_Status']     #dependent variable"
      ]
    },
    {
      "cell_type": "markdown",
      "metadata": {
        "id": "Anr9ijAfeWTa"
      },
      "source": [
        "## ## Statistical Analysis\n",
        "### (Correlation,Describe)"
      ]
    },
    {
      "cell_type": "code",
      "execution_count": 12,
      "metadata": {
        "id": "-s6NcLO-eWTa",
        "outputId": "5bc01870-cdfe-4b12-8340-1806bf5d53a7"
      },
      "outputs": [
        {
          "name": "stdout",
          "output_type": "stream",
          "text": [
            "       ApplicantIncome  CoapplicantIncome  LoanAmount\n",
            "count       381.000000         381.000000  381.000000\n",
            "mean       3579.845144        1277.275381  104.986877\n",
            "std        1419.813818        2340.818114   28.358464\n",
            "min         150.000000           0.000000    9.000000\n",
            "25%        2600.000000           0.000000   90.000000\n",
            "50%        3333.000000         983.000000  110.000000\n",
            "75%        4288.000000        2016.000000  127.000000\n",
            "max        9703.000000       33837.000000  150.000000\n"
          ]
        }
      ],
      "source": [
        "print(data.describe())"
      ]
    },
    {
      "cell_type": "code",
      "execution_count": 13,
      "metadata": {
        "id": "sU95aRFKeWTb",
        "outputId": "c290826f-d38a-4254-c6c0-e8eca81288d4"
      },
      "outputs": [
        {
          "name": "stdout",
          "output_type": "stream",
          "text": [
            "                   Loan_ID  Gender  Married  Dependents  Education  \\\n",
            "Loan_ID              1.000  -0.005   -0.048       0.079     -0.005   \n",
            "Gender              -0.005   1.000    0.340       0.187      0.103   \n",
            "Married             -0.048   0.340    1.000       0.338      0.041   \n",
            "Dependents           0.079   0.187    0.338       1.000      0.123   \n",
            "Education           -0.005   0.103    0.041       0.123      1.000   \n",
            "ApplicantIncome      0.004   0.032   -0.044       0.147     -0.035   \n",
            "CoapplicantIncome    0.058   0.102    0.081      -0.070     -0.043   \n",
            "LoanAmount           0.006   0.061    0.142       0.083     -0.012   \n",
            "Property_Area       -0.185   0.002    0.035       0.065     -0.087   \n",
            "Loan_Status         -0.037  -0.014    0.092      -0.024     -0.056   \n",
            "\n",
            "                   ApplicantIncome  CoapplicantIncome  LoanAmount  \\\n",
            "Loan_ID                      0.004              0.058       0.006   \n",
            "Gender                       0.032              0.102       0.061   \n",
            "Married                     -0.044              0.081       0.142   \n",
            "Dependents                   0.147             -0.070       0.083   \n",
            "Education                   -0.035             -0.043      -0.012   \n",
            "ApplicantIncome              1.000             -0.249       0.271   \n",
            "CoapplicantIncome           -0.249              1.000       0.115   \n",
            "LoanAmount                   0.271              0.115       1.000   \n",
            "Property_Area               -0.065              0.011      -0.165   \n",
            "Loan_Status                 -0.010              0.009       0.041   \n",
            "\n",
            "                   Property_Area  Loan_Status  \n",
            "Loan_ID                   -0.185       -0.037  \n",
            "Gender                     0.002       -0.014  \n",
            "Married                    0.035        0.092  \n",
            "Dependents                 0.065       -0.024  \n",
            "Education                 -0.087       -0.056  \n",
            "ApplicantIncome           -0.065       -0.010  \n",
            "CoapplicantIncome          0.011        0.009  \n",
            "LoanAmount                -0.165        0.041  \n",
            "Property_Area              1.000        0.058  \n",
            "Loan_Status                0.058        1.000  \n"
          ]
        },
        {
          "data": {
            "text/plain": [
              "<Axes: >"
            ]
          },
          "execution_count": 13,
          "metadata": {},
          "output_type": "execute_result"
        },
        {
          "data": {
            "image/png": "[encoded data removed]",
            "text/plain": [
              "<Figure size 640x480 with 2 Axes>"
            ]
          },
          "metadata": {},
          "output_type": "display_data"
        }
      ],
      "source": [
        "correlation=encoded_data.corr(numeric_only=True)\n",
        "print(np.around(correlation,decimals=3))\n",
        "sns.heatmap(correlation,annot=True)"
      ]
    },
    {
      "cell_type": "markdown",
      "metadata": {
        "id": "g1XuCmQueWTb"
      },
      "source": [
        "## Split Train and Test Data"
      ]
    },
    {
      "cell_type": "code",
      "execution_count": 14,
      "metadata": {
        "id": "yOlaOUZZeWTb"
      },
      "outputs": [],
      "source": [
        "X_train, X_test, y_train, y_test = train_test_split(X, y, test_size=0.2, random_state=42)"
      ]
    },
    {
      "cell_type": "markdown",
      "metadata": {
        "id": "FjDZolHXeWTb"
      },
      "source": [
        "## Build Model"
      ]
    },
    {
      "cell_type": "code",
      "execution_count": 15,
      "metadata": {
        "id": "pEgSO-cBeWTb",
        "outputId": "1b0a9c4c-4129-424e-d432-f9e57f3e39b0"
      },
      "outputs": [
        {
          "name": "stdout",
          "output_type": "stream",
          "text": [
            "     Actual     Predicted\n",
            "266       1  1.000000e+00\n",
            "192       1  1.000000e+00\n",
            "46        1  1.000000e+00\n",
            "55        0  1.743073e-15\n",
            "57        1  1.000000e+00\n",
            "..      ...           ...\n",
            "165       1  1.000000e+00\n",
            "63        1  1.000000e+00\n",
            "249       1  1.000000e+00\n",
            "280       1  1.000000e+00\n",
            "357       0 -7.987018e-15\n",
            "\n",
            "[77 rows x 2 columns]\n"
          ]
        }
      ],
      "source": [
        "# Fitting the MLR model to the training set\n",
        "model = LinearRegression()\n",
        "model.fit(X_train, y_train)\n",
        "\n",
        "# Predicting the test set result\n",
        "y_pred = model.predict(X_test)\n",
        "\n",
        "# To compare the actual output values for X_test with the predicted value\n",
        "data = pd.DataFrame({'Actual': y_test, 'Predicted': y_pred})\n",
        "print(data)"
      ]
    },
    {
      "cell_type": "code",
      "execution_count": 16,
      "metadata": {
        "id": "JefKQLcLeWTb",
        "outputId": "7fce1e26-f828-4729-8fd1-93d8a353a9a3"
      },
      "outputs": [
        {
          "name": "stdout",
          "output_type": "stream",
          "text": [
            "r2 score is  100.0 %\n"
          ]
        }
      ],
      "source": [
        "# predicting the accuracy score\n",
        "score = r2_score(y_test,y_pred)\n",
        "print(\"r2 score is \", score*100,\"%\")"
      ]
    }
  ],
  "metadata": {
    "colab": {
      "provenance": []
    },
    "kernelspec": {
      "display_name": "base",
      "language": "python",
      "name": "python3"
    },
    "language_info": {
      "codemirror_mode": {
        "name": "ipython",
        "version": 3
      },
      "file_extension": ".py",
      "mimetype": "text/x-python",
      "name": "python",
      "nbconvert_exporter": "python",
      "pygments_lexer": "ipython3",
      "version": "3.10.9"
    }
  },
  "nbformat": 4,
  "nbformat_minor": 0
}
