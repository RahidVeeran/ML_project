{
  "cells": [
    {
      "cell_type": "markdown",
      "metadata": {
        "id": "0soSi54oPiAQ"
      },
      "source": [
        "## Import Libraries"
      ]
    },
    {
      "cell_type": "code",
      "execution_count": 6,
      "metadata": {
        "id": "80RnT21PPiAS"
      },
      "outputs": [],
      "source": [
        "\n",
        "import pandas as pd\n",
        "import numpy as np\n",
        "import seaborn as sns\n",
        "import matplotlib.pyplot as plt\n",
        "from sklearn.preprocessing import LabelEncoder, OneHotEncoder, StandardScaler\n",
        "from sklearn.compose import ColumnTransformer\n",
        "from sklearn.model_selection import train_test_split\n",
        "from sklearn.ensemble import RandomForestClassifier\n",
        "from sklearn.metrics import accuracy_score, classification_report, confusion_matrix\n"
      ]
    },
    {
      "cell_type": "markdown",
      "metadata": {
        "id": "dF4zMqLaPiAU"
      },
      "source": [
        "## Importing data"
      ]
    },
    {
      "cell_type": "code",
      "execution_count": 7,
      "metadata": {
        "id": "HrV0NObsPiAU",
        "outputId": "ba0e8528-7a8c-445a-dfb2-918c4a4305b0"
      },
      "outputs": [
        {
          "name": "stdout",
          "output_type": "stream",
          "text": [
            "      Temperature   Humidity  Wind_Speed  Cloud_Cover     Pressure     Rain\n",
            "0       23.720338  89.592641    7.335604    50.501694  1032.378759     rain\n",
            "1       27.879734  46.489704    5.952484     4.990053   992.614190  no rain\n",
            "2       25.069084  83.072843    1.371992    14.855784  1007.231620  no rain\n",
            "3       23.622080  74.367758    7.050551    67.255282   982.632013     rain\n",
            "4       20.591370  96.858822    4.643921    47.676444   980.825142  no rain\n",
            "...           ...        ...         ...          ...          ...      ...\n",
            "2495    21.791602  45.270902   11.807192    55.044682  1017.686181  no rain\n",
            "2496    27.558479  46.481744   10.884915    39.715133  1008.590961  no rain\n",
            "2497    28.108274  43.817178    2.897128    75.842952   999.119187  no rain\n",
            "2498    14.789275  57.908105    2.374717     2.378743  1046.501875  no rain\n",
            "2499    26.554356  97.101517   18.563084    81.357508  1001.729176  no rain\n",
            "\n",
            "[2500 rows x 6 columns]\n"
          ]
        }
      ],
      "source": [
        "data=pd.read_csv(\"weather_forecast_data.csv\")\n",
        "print(data)"
      ]
    },
    {
      "cell_type": "markdown",
      "metadata": {
        "id": "Ee80eylJPiAU"
      },
      "source": [
        "## Basic Information"
      ]
    },
    {
      "cell_type": "code",
      "execution_count": 8,
      "metadata": {
        "id": "BqBH9cVjPiAV",
        "outputId": "66a9ee82-cdbf-41c7-c21a-a2870e68bae1"
      },
      "outputs": [
        {
          "name": "stdout",
          "output_type": "stream",
          "text": [
            "<class 'pandas.core.frame.DataFrame'>\n",
            "RangeIndex: 2500 entries, 0 to 2499\n",
            "Data columns (total 6 columns):\n",
            " #   Column       Non-Null Count  Dtype  \n",
            "---  ------       --------------  -----  \n",
            " 0   Temperature  2500 non-null   float64\n",
            " 1   Humidity     2500 non-null   float64\n",
            " 2   Wind_Speed   2500 non-null   float64\n",
            " 3   Cloud_Cover  2500 non-null   float64\n",
            " 4   Pressure     2500 non-null   float64\n",
            " 5   Rain         2500 non-null   object \n",
            "dtypes: float64(5), object(1)\n",
            "memory usage: 117.3+ KB\n"
          ]
        }
      ],
      "source": [
        "data.info()"
      ]
    },
    {
      "cell_type": "markdown",
      "metadata": {
        "id": "NsirryfPPiAV"
      },
      "source": [
        "## Data Cleaning"
      ]
    },
    {
      "cell_type": "markdown",
      "metadata": {
        "id": "SVTk6Ir7PiAV"
      },
      "source": [
        "## Empty cells"
      ]
    },
    {
      "cell_type": "code",
      "execution_count": 9,
      "metadata": {
        "id": "bU_CAqPYPiAV",
        "outputId": "fee26140-5a8f-491a-9243-56c329564949"
      },
      "outputs": [
        {
          "data": {
            "text/plain": [
              "Temperature    0\n",
              "Humidity       0\n",
              "Wind_Speed     0\n",
              "Cloud_Cover    0\n",
              "Pressure       0\n",
              "Rain           0\n",
              "dtype: int64"
            ]
          },
          "execution_count": 9,
          "metadata": {},
          "output_type": "execute_result"
        }
      ],
      "source": [
        "data.isna().sum()"
      ]
    },
    {
      "cell_type": "markdown",
      "metadata": {
        "id": "D8yZGoBBPiAW"
      },
      "source": [
        "### Check Duplicates"
      ]
    },
    {
      "cell_type": "code",
      "execution_count": 10,
      "metadata": {
        "id": "MjghXKAePiAW",
        "outputId": "8559f527-c3ff-4399-aac1-fe77ebab7c98"
      },
      "outputs": [
        {
          "name": "stdout",
          "output_type": "stream",
          "text": [
            "Number of duplicated rows:  0\n"
          ]
        }
      ],
      "source": [
        "print('Number of duplicated rows: ' , len(data[data.duplicated()]))"
      ]
    },
    {
      "cell_type": "markdown",
      "metadata": {
        "id": "8-DhQVOHPiAW"
      },
      "source": [
        "## Plotting Boxplot"
      ]
    },
    {
      "cell_type": "code",
      "execution_count": 11,
      "metadata": {
        "id": "6yxo_Ef1PiAX",
        "outputId": "a74160ba-8dd5-4276-bd3c-9364453266a3"
      },
      "outputs": [
        {
          "data": {
            "image/png": "[encoded data removed]",
            "text/plain": [
              "<Figure size 640x480 with 1 Axes>"
            ]
          },
          "metadata": {},
          "output_type": "display_data"
        }
      ],
      "source": [
        "sns.boxplot(data=data)\n",
        "plt.xticks(rotation=90)\n",
        "plt.show()"
      ]
    },
    {
      "cell_type": "markdown",
      "metadata": {
        "id": "uoYFgUuMPiAX"
      },
      "source": [
        "## Encoding Categorial Data"
      ]
    },
    {
      "cell_type": "code",
      "execution_count": 12,
      "metadata": {
        "id": "-X7G_RwlPiAX",
        "outputId": "e6f97d29-cdce-47da-f2b4-5ccd300bd8eb"
      },
      "outputs": [
        {
          "name": "stdout",
          "output_type": "stream",
          "text": [
            "      Temperature   Humidity  Wind_Speed  Cloud_Cover     Pressure  Rain\n",
            "0       23.720338  89.592641    7.335604    50.501694  1032.378759     1\n",
            "1       27.879734  46.489704    5.952484     4.990053   992.614190     0\n",
            "2       25.069084  83.072843    1.371992    14.855784  1007.231620     0\n",
            "3       23.622080  74.367758    7.050551    67.255282   982.632013     1\n",
            "4       20.591370  96.858822    4.643921    47.676444   980.825142     0\n",
            "...           ...        ...         ...          ...          ...   ...\n",
            "2495    21.791602  45.270902   11.807192    55.044682  1017.686181     0\n",
            "2496    27.558479  46.481744   10.884915    39.715133  1008.590961     0\n",
            "2497    28.108274  43.817178    2.897128    75.842952   999.119187     0\n",
            "2498    14.789275  57.908105    2.374717     2.378743  1046.501875     0\n",
            "2499    26.554356  97.101517   18.563084    81.357508  1001.729176     0\n",
            "\n",
            "[2500 rows x 6 columns]\n"
          ]
        }
      ],
      "source": [
        "categ_col = data.select_dtypes(include=['object']).columns\n",
        "\n",
        "# Initialize encoders\n",
        "label_encoder = LabelEncoder()\n",
        "\n",
        "# Encode each categorical column using Label Encoding for simplicity\n",
        "encoded_data = data.copy()\n",
        "for i in categ_col:\n",
        "    encoded_data[i] = label_encoder.fit_transform(data[i])\n",
        "\n",
        "# Display the first 5 rows of the encoded dataset\n",
        "print(encoded_data)"
      ]
    },
    {
      "cell_type": "markdown",
      "metadata": {
        "id": "jVhYX5OqPiAY"
      },
      "source": [
        "## Extract Dependent and Independent Variables"
      ]
    },
    {
      "cell_type": "code",
      "execution_count": 13,
      "metadata": {
        "id": "5zxUKSmnPiAY"
      },
      "outputs": [],
      "source": [
        "X = encoded_data.iloc[:,0:5]   #Independent variable\n",
        "y = encoded_data['Rain']     #dependent variable"
      ]
    },
    {
      "cell_type": "markdown",
      "metadata": {
        "id": "eBEi8VtyPiAY"
      },
      "source": [
        "## ## Statistical Analysis\n",
        "### (Correlation,Describe)"
      ]
    },
    {
      "cell_type": "code",
      "execution_count": 14,
      "metadata": {
        "id": "82eNU6ghPiAY",
        "outputId": "e1880eb4-4fb0-4810-f941-53e538c5e59b"
      },
      "outputs": [
        {
          "name": "stdout",
          "output_type": "stream",
          "text": [
            "       Temperature     Humidity   Wind_Speed  Cloud_Cover     Pressure\n",
            "count  2500.000000  2500.000000  2500.000000  2500.000000  2500.000000\n",
            "mean     22.581725    64.347094     9.906255    49.658104  1014.312336\n",
            "std       7.326996    19.954739     5.780316    29.123104    20.196433\n",
            "min      10.001842    30.005071     0.009819     0.015038   980.014486\n",
            "25%      16.359398    47.339815     4.761909    23.900016   996.938630\n",
            "50%      22.536448    63.920797     9.908572    49.488284  1013.433035\n",
            "75%      28.976476    81.561021    14.948408    75.324140  1031.735067\n",
            "max      34.995214    99.997481    19.999132    99.997795  1049.985593\n"
          ]
        }
      ],
      "source": [
        "print(data.describe())"
      ]
    },
    {
      "cell_type": "code",
      "execution_count": 15,
      "metadata": {
        "id": "RmIoiy_uPiAY",
        "outputId": "4ab46c03-ee0a-431e-8f04-a3fd9c65e1dc"
      },
      "outputs": [
        {
          "name": "stdout",
          "output_type": "stream",
          "text": [
            "             Temperature  Humidity  Wind_Speed  Cloud_Cover  Pressure   Rain\n",
            "Temperature        1.000    -0.014      -0.005        0.007    -0.007 -0.266\n",
            "Humidity          -0.014     1.000       0.004        0.007    -0.032  0.382\n",
            "Wind_Speed        -0.005     0.004       1.000       -0.000     0.019 -0.001\n",
            "Cloud_Cover        0.007     0.007      -0.000        1.000     0.023  0.326\n",
            "Pressure          -0.007    -0.032       0.019        0.023     1.000  0.008\n",
            "Rain              -0.266     0.382      -0.001        0.326     0.008  1.000\n"
          ]
        },
        {
          "data": {
            "text/plain": [
              "<Axes: >"
            ]
          },
          "execution_count": 15,
          "metadata": {},
          "output_type": "execute_result"
        },
        {
          "data": {
            "image/png": "[encoded data removed]",
            "text/plain": [
              "<Figure size 640x480 with 2 Axes>"
            ]
          },
          "metadata": {},
          "output_type": "display_data"
        }
      ],
      "source": [
        "correlation=encoded_data.corr(numeric_only=True)\n",
        "print(np.around(correlation,decimals=3))\n",
        "sns.heatmap(correlation,annot=True)"
      ]
    },
    {
      "cell_type": "markdown",
      "metadata": {
        "id": "48S_gHDLPiAZ"
      },
      "source": [
        "## Split Train and Test Data"
      ]
    },
    {
      "cell_type": "code",
      "execution_count": 16,
      "metadata": {
        "id": "6UKFKkLMPiAZ"
      },
      "outputs": [],
      "source": [
        "X_train, X_test, y_train, y_test = train_test_split(X, y, test_size=0.2, random_state=42)"
      ]
    },
    {
      "cell_type": "markdown",
      "metadata": {
        "id": "O_DGIMZRPiAZ"
      },
      "source": [
        "## Build Model"
      ]
    },
    {
      "cell_type": "code",
      "execution_count": 17,
      "metadata": {
        "id": "pPd7dilIPiAZ",
        "outputId": "3a0df343-0b1c-4ca5-ff39-bcfd55dfc6c5"
      },
      "outputs": [
        {
          "name": "stdout",
          "output_type": "stream",
          "text": [
            "      Actual  Predicted\n",
            "1447       0          0\n",
            "1114       0          0\n",
            "1064       1          0\n",
            "2287       0          1\n",
            "1537       0          0\n",
            "...      ...        ...\n",
            "2375       0          0\n",
            "1609       0          0\n",
            "596        1          1\n",
            "84         0          0\n",
            "2213       0          0\n",
            "\n",
            "[500 rows x 2 columns]\n"
          ]
        }
      ],
      "source": [
        "from sklearn.linear_model import LogisticRegression\n",
        "from sklearn.metrics import classification_report, confusion_matrix\n",
        "import pandas as pd\n",
        "\n",
        "# Fitting the Logistic Regression model to the training set\n",
        "model = LogisticRegression()\n",
        "model.fit(X_train, y_train)\n",
        "\n",
        "# Predicting the test set results\n",
        "y_pred = model.predict(X_test)\n",
        "\n",
        "# Comparing the actual output values for X_test with the predicted values\n",
        "data = pd.DataFrame({'Actual': y_test, 'Predicted': y_pred})\n",
        "print(data)\n",
        "\n"
      ]
    },
    {
      "cell_type": "code",
      "execution_count": 18,
      "metadata": {
        "id": "amRA7FyWPiAZ",
        "outputId": "ff250762-41ee-4632-ad96-2f1d673c8138"
      },
      "outputs": [
        {
          "name": "stdout",
          "output_type": "stream",
          "text": [
            "Accuracy score is  93.2 %\n",
            "\n",
            "Confusion Matrix:\n",
            "[[429  14]\n",
            " [ 20  37]]\n",
            "\n",
            "Classification Report:\n",
            "              precision    recall  f1-score   support\n",
            "\n",
            "           0       0.96      0.97      0.96       443\n",
            "           1       0.73      0.65      0.69        57\n",
            "\n",
            "    accuracy                           0.93       500\n",
            "   macro avg       0.84      0.81      0.82       500\n",
            "weighted avg       0.93      0.93      0.93       500\n",
            "\n"
          ]
        }
      ],
      "source": [
        "from sklearn.metrics import accuracy_score, classification_report, confusion_matrix\n",
        "\n",
        "# Predicting the accuracy score\n",
        "accuracy = accuracy_score(y_test, y_pred)\n",
        "print(\"Accuracy score is \", accuracy * 100, \"%\")\n",
        "\n",
        "# Optionally, include detailed performance metrics:\n",
        "print(\"\\nConfusion Matrix:\")\n",
        "print(confusion_matrix(y_test, y_pred))\n",
        "\n",
        "print(\"\\nClassification Report:\")\n",
        "print(classification_report(y_test, y_pred))\n"
      ]
    }
  ],
  "metadata": {
    "colab": {
      "provenance": []
    },
    "kernelspec": {
      "display_name": "base",
      "language": "python",
      "name": "python3"
    },
    "language_info": {
      "codemirror_mode": {
        "name": "ipython",
        "version": 3
      },
      "file_extension": ".py",
      "mimetype": "text/x-python",
      "name": "python",
      "nbconvert_exporter": "python",
      "pygments_lexer": "ipython3",
      "version": "3.10.9"
    }
  },
  "nbformat": 4,
  "nbformat_minor": 0
}
