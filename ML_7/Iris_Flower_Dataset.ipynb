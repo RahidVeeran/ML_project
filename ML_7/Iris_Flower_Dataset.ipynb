{
  "cells": [
    {
      "cell_type": "markdown",
      "metadata": {
        "id": "P0MOUguqbdOy"
      },
      "source": [
        "## Import Libraries"
      ]
    },
    {
      "cell_type": "code",
      "execution_count": 3,
      "metadata": {
        "id": "TWolrmjkbdOz"
      },
      "outputs": [],
      "source": [
        "import pandas as pd\n",
        "import numpy as np\n",
        "import seaborn as sns\n",
        "import matplotlib.pyplot as plt\n",
        "from sklearn.preprocessing import LabelEncoder, OneHotEncoder\n",
        "from sklearn.compose import ColumnTransformer\n",
        "from sklearn.model_selection import train_test_split\n",
        "from sklearn.linear_model import LinearRegression\n",
        "from sklearn.metrics import r2_score"
      ]
    },
    {
      "cell_type": "markdown",
      "metadata": {
        "id": "uh2VaTjTbdO1"
      },
      "source": [
        "## Importing data"
      ]
    },
    {
      "cell_type": "code",
      "execution_count": 4,
      "metadata": {
        "id": "uAxte2s_bdO1",
        "outputId": "f20c1816-9060-4aa2-f905-a2e8d494e5e4"
      },
      "outputs": [
        {
          "name": "stdout",
          "output_type": "stream",
          "text": [
            "     sepal_length  sepal_width  petal_length  petal_width         species\n",
            "0             5.1          3.5           1.4          0.2     Iris-setosa\n",
            "1             4.9          3.0           1.4          0.2     Iris-setosa\n",
            "2             4.7          3.2           1.3          0.2     Iris-setosa\n",
            "3             4.6          3.1           1.5          0.2     Iris-setosa\n",
            "4             5.0          3.6           1.4          0.2     Iris-setosa\n",
            "..            ...          ...           ...          ...             ...\n",
            "145           6.7          3.0           5.2          2.3  Iris-virginica\n",
            "146           6.3          2.5           5.0          1.9  Iris-virginica\n",
            "147           6.5          3.0           5.2          2.0  Iris-virginica\n",
            "148           6.2          3.4           5.4          2.3  Iris-virginica\n",
            "149           5.9          3.0           5.1          1.8  Iris-virginica\n",
            "\n",
            "[150 rows x 5 columns]\n"
          ]
        }
      ],
      "source": [
        "data = pd.read_csv(\"IRIS.csv\")\n",
        "print(data)"
      ]
    },
    {
      "cell_type": "markdown",
      "metadata": {
        "id": "Py1OPnbcbdO2"
      },
      "source": [
        "## Basic Information"
      ]
    },
    {
      "cell_type": "code",
      "execution_count": 5,
      "metadata": {
        "id": "6z71iQLibdO2",
        "outputId": "f95fe9db-abec-4c02-a48f-2db292913312"
      },
      "outputs": [
        {
          "name": "stdout",
          "output_type": "stream",
          "text": [
            "<class 'pandas.core.frame.DataFrame'>\n",
            "RangeIndex: 150 entries, 0 to 149\n",
            "Data columns (total 5 columns):\n",
            " #   Column        Non-Null Count  Dtype  \n",
            "---  ------        --------------  -----  \n",
            " 0   sepal_length  150 non-null    float64\n",
            " 1   sepal_width   150 non-null    float64\n",
            " 2   petal_length  150 non-null    float64\n",
            " 3   petal_width   150 non-null    float64\n",
            " 4   species       150 non-null    object \n",
            "dtypes: float64(4), object(1)\n",
            "memory usage: 6.0+ KB\n"
          ]
        }
      ],
      "source": [
        "data.info()"
      ]
    },
    {
      "cell_type": "markdown",
      "metadata": {
        "id": "JAodmhEHbdO3"
      },
      "source": [
        "## Data Cleaning"
      ]
    },
    {
      "cell_type": "markdown",
      "metadata": {
        "id": "CdMrzmjtbdO3"
      },
      "source": [
        "## Empty cells"
      ]
    },
    {
      "cell_type": "code",
      "execution_count": 6,
      "metadata": {
        "id": "R-NdNXMhbdO3",
        "outputId": "7ada2463-34e5-459f-b123-043b37d0bd17"
      },
      "outputs": [
        {
          "data": {
            "text/plain": [
              "sepal_length    0\n",
              "sepal_width     0\n",
              "petal_length    0\n",
              "petal_width     0\n",
              "species         0\n",
              "dtype: int64"
            ]
          },
          "execution_count": 6,
          "metadata": {},
          "output_type": "execute_result"
        }
      ],
      "source": [
        "data.isna().sum()"
      ]
    },
    {
      "cell_type": "markdown",
      "metadata": {
        "id": "vGxdkvV3bdO4"
      },
      "source": [
        "### Check Duplicates"
      ]
    },
    {
      "cell_type": "code",
      "execution_count": 7,
      "metadata": {
        "id": "p8D6JPSZbdO4",
        "outputId": "557415ab-9c16-4c9f-c07b-6d972950088f"
      },
      "outputs": [
        {
          "name": "stdout",
          "output_type": "stream",
          "text": [
            "Number of duplicated rows:  3\n"
          ]
        }
      ],
      "source": [
        "print('Number of duplicated rows: ' , len(data[data.duplicated()]))"
      ]
    },
    {
      "cell_type": "markdown",
      "metadata": {
        "id": "OjJ0hXeHbdO5"
      },
      "source": [
        "## Plotting Boxplot"
      ]
    },
    {
      "cell_type": "code",
      "execution_count": 8,
      "metadata": {
        "id": "DZgMxA22bdO5",
        "outputId": "4c4b6743-a7fc-458b-cedb-32494e213620"
      },
      "outputs": [
        {
          "data": {
            "image/png": "[encoded data removed]",
            "text/plain": [
              "<Figure size 640x480 with 1 Axes>"
            ]
          },
          "metadata": {},
          "output_type": "display_data"
        }
      ],
      "source": [
        "sns.boxplot(data=data)\n",
        "plt.xticks(rotation=90)\n",
        "plt.show()"
      ]
    },
    {
      "cell_type": "markdown",
      "metadata": {
        "id": "ftxicnGgbdO5"
      },
      "source": [
        "## Encoding Categorial Data"
      ]
    },
    {
      "cell_type": "code",
      "execution_count": 9,
      "metadata": {
        "id": "utJ-zL6TbdO6",
        "outputId": "a37b604a-ef46-42ba-9d20-d96dc61c0b40"
      },
      "outputs": [
        {
          "name": "stdout",
          "output_type": "stream",
          "text": [
            "     sepal_length  sepal_width  petal_length  petal_width  species\n",
            "0             5.1          3.5           1.4          0.2        0\n",
            "1             4.9          3.0           1.4          0.2        0\n",
            "2             4.7          3.2           1.3          0.2        0\n",
            "3             4.6          3.1           1.5          0.2        0\n",
            "4             5.0          3.6           1.4          0.2        0\n",
            "..            ...          ...           ...          ...      ...\n",
            "145           6.7          3.0           5.2          2.3        2\n",
            "146           6.3          2.5           5.0          1.9        2\n",
            "147           6.5          3.0           5.2          2.0        2\n",
            "148           6.2          3.4           5.4          2.3        2\n",
            "149           5.9          3.0           5.1          1.8        2\n",
            "\n",
            "[150 rows x 5 columns]\n"
          ]
        }
      ],
      "source": [
        "categ_col = data.select_dtypes(include=['object']).columns\n",
        "\n",
        "# Initialize encoders\n",
        "label_encoder = LabelEncoder()\n",
        "\n",
        "# Encode each categorical column using Label Encoding for simplicity\n",
        "encoded_data = data.copy()\n",
        "for i in categ_col:\n",
        "    encoded_data[i] = label_encoder.fit_transform(data[i])\n",
        "\n",
        "# Display the first 5 rows of the encoded dataset\n",
        "print(encoded_data)"
      ]
    },
    {
      "cell_type": "markdown",
      "metadata": {
        "id": "GDO4qQkKbdO6"
      },
      "source": [
        "## Extract Dependent and Independent Variables"
      ]
    },
    {
      "cell_type": "code",
      "execution_count": 10,
      "metadata": {
        "id": "z8FGy9yRbdO6"
      },
      "outputs": [],
      "source": [
        "X = encoded_data.iloc[:,0:4]   #Independent variable\n",
        "y = encoded_data['species']     #dependent variable"
      ]
    },
    {
      "cell_type": "markdown",
      "metadata": {
        "id": "Y39WqIbFbdO7"
      },
      "source": [
        "## ## Statistical Analysis\n",
        "### (Correlation,Describe)"
      ]
    },
    {
      "cell_type": "code",
      "execution_count": 11,
      "metadata": {
        "id": "HZeAu4NsbdO7",
        "outputId": "a32a7dcd-4c3a-4be3-860c-53f396209b4f"
      },
      "outputs": [
        {
          "name": "stdout",
          "output_type": "stream",
          "text": [
            "       sepal_length  sepal_width  petal_length  petal_width\n",
            "count    150.000000   150.000000    150.000000   150.000000\n",
            "mean       5.843333     3.054000      3.758667     1.198667\n",
            "std        0.828066     0.433594      1.764420     0.763161\n",
            "min        4.300000     2.000000      1.000000     0.100000\n",
            "25%        5.100000     2.800000      1.600000     0.300000\n",
            "50%        5.800000     3.000000      4.350000     1.300000\n",
            "75%        6.400000     3.300000      5.100000     1.800000\n",
            "max        7.900000     4.400000      6.900000     2.500000\n"
          ]
        }
      ],
      "source": [
        "print(data.describe())"
      ]
    },
    {
      "cell_type": "code",
      "execution_count": 12,
      "metadata": {
        "id": "xCehJzg7bdO7",
        "outputId": "7b09ecce-2d0a-48d6-f23c-f538d386413a"
      },
      "outputs": [
        {
          "name": "stdout",
          "output_type": "stream",
          "text": [
            "              sepal_length  sepal_width  petal_length  petal_width  species\n",
            "sepal_length         1.000       -0.109         0.872        0.818    0.783\n",
            "sepal_width         -0.109        1.000        -0.421       -0.357   -0.419\n",
            "petal_length         0.872       -0.421         1.000        0.963    0.949\n",
            "petal_width          0.818       -0.357         0.963        1.000    0.956\n",
            "species              0.783       -0.419         0.949        0.956    1.000\n"
          ]
        },
        {
          "data": {
            "text/plain": [
              "<Axes: >"
            ]
          },
          "execution_count": 12,
          "metadata": {},
          "output_type": "execute_result"
        },
        {
          "data": {
            "image/png": "[encoded data removed]",
            "text/plain": [
              "<Figure size 640x480 with 2 Axes>"
            ]
          },
          "metadata": {},
          "output_type": "display_data"
        }
      ],
      "source": [
        "correlation=encoded_data.corr(numeric_only=True)\n",
        "print(np.around(correlation,decimals=3))\n",
        "sns.heatmap(correlation,annot=True)"
      ]
    },
    {
      "cell_type": "markdown",
      "metadata": {
        "id": "QJ_aHYgGbdO7"
      },
      "source": [
        "## Split Train and Test Data"
      ]
    },
    {
      "cell_type": "code",
      "execution_count": 13,
      "metadata": {
        "id": "3Mxp8YFcbdO8"
      },
      "outputs": [],
      "source": [
        "X_train, X_test, y_train, y_test = train_test_split(X, y, test_size=0.2, random_state=42)"
      ]
    },
    {
      "cell_type": "markdown",
      "metadata": {
        "id": "7qbWDDujbdO8"
      },
      "source": [
        "## Build Model"
      ]
    },
    {
      "cell_type": "code",
      "execution_count": 14,
      "metadata": {
        "id": "YJW4Ohw3bdO8",
        "outputId": "24f88c23-70bf-472f-ef00-2cad8b04cdfb"
      },
      "outputs": [
        {
          "name": "stdout",
          "output_type": "stream",
          "text": [
            "     Actual  Predicted\n",
            "73        1   1.230517\n",
            "18        0  -0.040888\n",
            "118       2   2.221623\n",
            "78        1   1.349720\n",
            "76        1   1.286079\n",
            "31        0   0.023466\n",
            "64        1   1.057962\n",
            "141       2   1.825570\n",
            "68        1   1.372193\n",
            "82        1   1.068988\n",
            "110       2   1.699768\n",
            "12        0  -0.072570\n",
            "36        0  -0.154762\n",
            "9         0  -0.065135\n",
            "19        0  -0.023202\n",
            "56        1   1.395244\n",
            "104       2   1.999392\n",
            "69        1   1.049702\n",
            "55        1   1.280405\n",
            "132       2   1.973154\n",
            "29        0   0.031343\n",
            "127       2   1.597756\n",
            "26        0   0.094199\n",
            "128       2   1.918215\n",
            "131       2   1.830263\n",
            "145       2   1.880026\n",
            "108       2   1.789192\n",
            "143       2   2.032572\n",
            "45        0   0.037307\n",
            "30        0   0.026433\n"
          ]
        }
      ],
      "source": [
        "# Fitting the MLR model to the training set\n",
        "model = LinearRegression()\n",
        "model.fit(X_train, y_train)\n",
        "\n",
        "# Predicting the test set result\n",
        "y_pred = model.predict(X_test)\n",
        "\n",
        "# To compare the actual output values for X_test with the predicted value\n",
        "data = pd.DataFrame({'Actual': y_test, 'Predicted': y_pred})\n",
        "print(data)"
      ]
    },
    {
      "cell_type": "code",
      "execution_count": 15,
      "metadata": {
        "id": "RrPHm8aTbdO8",
        "outputId": "29a29fe3-75cb-4897-bcad-9b5babc63ede"
      },
      "outputs": [
        {
          "name": "stdout",
          "output_type": "stream",
          "text": [
            "r2 score is  94.67245149351709 %\n"
          ]
        }
      ],
      "source": [
        "# predicting the accuracy score\n",
        "score = r2_score(y_test,y_pred)\n",
        "print(\"r2 score is \", score*100,\"%\")"
      ]
    }
  ],
  "metadata": {
    "colab": {
      "provenance": []
    },
    "kernelspec": {
      "display_name": "base",
      "language": "python",
      "name": "python3"
    },
    "language_info": {
      "codemirror_mode": {
        "name": "ipython",
        "version": 3
      },
      "file_extension": ".py",
      "mimetype": "text/x-python",
      "name": "python",
      "nbconvert_exporter": "python",
      "pygments_lexer": "ipython3",
      "version": "3.10.9"
    }
  },
  "nbformat": 4,
  "nbformat_minor": 0
}
